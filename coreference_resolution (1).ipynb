{
  "nbformat": 4,
  "nbformat_minor": 0,
  "metadata": {
    "colab": {
      "provenance": [],
      "machine_shape": "hm"
    },
    "kernelspec": {
      "name": "python3",
      "display_name": "Python 3"
    },
    "language_info": {
      "name": "python"
    }
  },
  "cells": [
    {
      "cell_type": "code",
      "source": [
        "!pip install spacy-experimental\n",
        "!pip install https://github.com/explosion/spacy-experimental/releases/download/v0.6.0/en_coreference_web_trf-3.4.0a0-py3-none-any.whl#egg=en_coreference_web_trf\n"
      ],
      "metadata": {
        "id": "yekgd1nvttRz"
      },
      "execution_count": null,
      "outputs": []
    },
    {
      "cell_type": "code",
      "source": [
        "# !pip install spacy==3.4.4"
      ],
      "metadata": {
        "id": "DtnGT7jWxGIJ"
      },
      "execution_count": null,
      "outputs": []
    },
    {
      "cell_type": "code",
      "source": [
        "# !pip install spacy-transformers"
      ],
      "metadata": {
        "id": "xB5eRWl2UZpQ"
      },
      "execution_count": null,
      "outputs": []
    },
    {
      "cell_type": "code",
      "source": [
        "# !pip show spacy"
      ],
      "metadata": {
        "id": "moGnpu0RUnG3"
      },
      "execution_count": null,
      "outputs": []
    },
    {
      "cell_type": "code",
      "source": [],
      "metadata": {
        "id": "2enjymWFVSFi"
      },
      "execution_count": null,
      "outputs": []
    },
    {
      "cell_type": "code",
      "source": [
        "import spacy\n",
        "import spacy_experimental\n",
        "# import spacy_transformers\n",
        "import re\n",
        "import pandas as pd"
      ],
      "metadata": {
        "id": "61RpLo-Ut90e"
      },
      "execution_count": null,
      "outputs": []
    },
    {
      "cell_type": "code",
      "source": [],
      "metadata": {
        "id": "c3m3ZksLuaa2"
      },
      "execution_count": null,
      "outputs": []
    },
    {
      "cell_type": "code",
      "source": [
        "# nlp = spacy.load(\"en_coreference_web_trf\")\n"
      ],
      "metadata": {
        "id": "8i3KjcI5uzsl"
      },
      "execution_count": null,
      "outputs": []
    },
    {
      "cell_type": "code",
      "source": [
        "# df = pd.read_excel(r\"/content/past_one_month.xlsx\")"
      ],
      "metadata": {
        "id": "kVgxGe4dW-sX"
      },
      "execution_count": null,
      "outputs": []
    },
    {
      "cell_type": "code",
      "source": [
        "# text = df.loc[0, 'full_content']"
      ],
      "metadata": {
        "id": "hfNAYnwu5ws5"
      },
      "execution_count": null,
      "outputs": []
    },
    {
      "cell_type": "markdown",
      "source": [
        "### This coref resolution technique resolves coreference pertaining to PERSON entity in a text. Token limit in text should not exceed 512 "
      ],
      "metadata": {
        "id": "cKXijBaiXTwU"
      }
    },
    {
      "cell_type": "code",
      "source": [
        "class coref_resolution:\n",
        "  def __init__(self,text):\n",
        "    self.text = text\n",
        "  \n",
        "  def get_coref_clusters(self,):\n",
        "    \"\"\"This method produces coref clusters\"\"\"\n",
        "    self.nlp = spacy.load(\"en_core_web_trf\")\n",
        "    nlp_coref = spacy.load(\"en_coreference_web_trf\")\n",
        "\n",
        "    # use replace_listeners for the coref components\n",
        "    nlp_coref.replace_listeners(\"transformer\", \"coref\", [\"model.tok2vec\"])\n",
        "    nlp_coref.replace_listeners(\"transformer\", \"span_resolver\", [\"model.tok2vec\"])\n",
        "\n",
        "    # we won't copy over the span cleaner\n",
        "    self.nlp.add_pipe(\"coref\", source=nlp_coref)\n",
        "    self.nlp.add_pipe(\"span_resolver\", source=nlp_coref)\n",
        "\n",
        "    self.doc = self.nlp(self.text)\n",
        "    self.tokens = [str(token) for token in self.doc]\n",
        "    coref_clusters = {key : val for key , val in self.doc.spans.items() if re.match(r\"coref_clusters_*\",key)}\n",
        "\n",
        "    return coref_clusters\n",
        "  \n",
        "  def find_span_start_end(self,coref_clusters):\n",
        "    \"\"\"This method finds start and end span of entire text piece in every cluster\"\"\"\n",
        "    cluster_w_spans = {}\n",
        "    for cluster in coref_clusters:\n",
        "      cluster_w_spans[cluster] = [(span.start, span.end, span.text) for span in coref_clusters[cluster]]\n",
        "    \n",
        "    return cluster_w_spans\n",
        "  \n",
        "  def find_person_start_end(self, coref_clusters,cluster_w_spans):\n",
        "    \"\"\"this function finds the start and end span of PERSON in every element of every cluster\"\"\"\n",
        "    # nlp = spacy.load(\"en_core_web_trf\")\n",
        "    coref_clusters_with_name_spans = {}\n",
        "    for key, val in coref_clusters.items():\n",
        "      temp = [0 for i in range(len(val))]\n",
        "      person_flag = False\n",
        "      for idx, text in enumerate(val):\n",
        "        doc = self.nlp(str(text))\n",
        "        for word in doc.ents:\n",
        "          if word.label_ == 'PERSON':\n",
        "            temp[idx] = (word.start, word.end, word.text)\n",
        "            person_flag = True\n",
        "        for token in doc:\n",
        "          if token.pos_ == 'PRON':\n",
        "            temp[idx] = (token.i,token.i+1,token)\n",
        "      if len(temp) > 0:\n",
        "        if person_flag:\n",
        "          orig = cluster_w_spans[key]\n",
        "          for idx, tup in enumerate(orig):\n",
        "            if isinstance(tup, tuple) and isinstance(temp[idx], tuple):\n",
        "              orig_start, orig_end, text = tup\n",
        "              offset_start, offset_end, _ = temp[idx]\n",
        "              orig_start += offset_start\n",
        "              orig_end = orig_start + (offset_end - offset_start) \n",
        "              orig[idx] = (orig_start, orig_end, text)\n",
        "          coref_clusters_with_name_spans[key] = orig\n",
        "\n",
        "    return coref_clusters_with_name_spans\n",
        "  \n",
        "  def replace_refs_w_names(self,coref_clusters_with_name_spans):\n",
        "    \"\"\"This function replaces name references and pronouns by actual name of the person\"\"\"\n",
        "    tokens = self.tokens\n",
        "    special_tokens = [\"my\",\"his\",\"her\",\"mine\"]\n",
        "    for key, val in coref_clusters_with_name_spans.items():\n",
        "      if len(val) > 0 and isinstance(val, list):\n",
        "        head = val[0]\n",
        "        head_start, head_end, _ = head\n",
        "        head_name = \" \".join(tokens[head_start:head_end])\n",
        "        for i in range(1,len(val)):\n",
        "          coref_token_start, coref_token_end, _ = val[i]\n",
        "          count = 0\n",
        "          for j in range(coref_token_start, coref_token_end):\n",
        "            if tokens[j].upper() == \"I\":\n",
        "                count += 1\n",
        "                continue\n",
        "            if count == 0:\n",
        "              if tokens[j].lower() in special_tokens:\n",
        "                if head_name[-1].lower() == \"s\":\n",
        "                  tokens[j] = str(head_name)+\"'\"\n",
        "                else:\n",
        "                  tokens[j] = str(head_name)+\"'s\"\n",
        "              else:\n",
        "                tokens[j] = head_name\n",
        "            else:\n",
        "              tokens[j] = \"\"\n",
        "            count += 1\n",
        "\n",
        "    return tokens\n",
        "  \n",
        "  def main(self,):\n",
        "    \"\"\"combines all the steps and returns the coreferenced text\"\"\"\n",
        "    coref_clusters = self.get_coref_clusters()\n",
        "    coref_w_spans = self.find_span_start_end(coref_clusters)\n",
        "    coref_clusters_with_name_spans = self.find_person_start_end(coref_clusters,coref_w_spans)\n",
        "    tokens = self.replace_refs_w_names(coref_clusters_with_name_spans)\n",
        "\n",
        "    return \" \".join(tokens)\n",
        "\n",
        "\n",
        "\n",
        "\n",
        "  \n",
        "\n",
        "  "
      ],
      "metadata": {
        "id": "CCROaQx3ct_K"
      },
      "execution_count": 76,
      "outputs": []
    },
    {
      "cell_type": "code",
      "source": [
        "del obj"
      ],
      "metadata": {
        "id": "FcugXby91imJ"
      },
      "execution_count": null,
      "outputs": []
    },
    {
      "cell_type": "code",
      "source": [
        "text = \"\"\"As Elizabeth Holmes prepares to report to prison next week, the criminal case that laid bare the blood-testing scam at the heart of her Theranos startup is entering its final phase. The 11-year sentence represents a comeuppance for the wide-eyed woman who broke through \"tech bro\" culture to become one of Silicon Valley 's most celebrated entrepreneurs, only to be exposed as a fraud. Along the way, Holmes became a symbol of the shameless hyperbole that often saturates startup culture. But questions still linger about her true intentions - so many that even the federal judge who presided over her trial seemed mystified. And Holmes' defenders continue to ask whether the punishment fits the crime. At 39, she seems most likely to be remembered as Silicon Valley's Icarus - a high-flying entrepreneur burning with reckless ambition whose odyssey culminated in convictions for fraud and conspiracy. Her motives are still somewhat mysterious, and some supporters say federal prosecutors targeted her unfairly in their zeal to bring down one of the most prominent practitioners of fake-it-til-you-make-it - the tech sector's brand of self-promotion that sometimes veers into exaggeration and blatant lies to raise money. Holmes will begin to pay the price for her deceit on May 30 when she is scheduled to begin the sentence that will separate her from her two children - a son whose July 2021 birth delayed the start of her trial and a 3-month-old daughter conceived after her conviction. Discover the stories of your interest Blockchain 5 Stories Cyber-safety 7 Stories Fintech 9 Stories E-comm 9 Stories ML 8 Stories Edtech 6 Stories She is expected to be incarcerated in Bryan, Texas, about 100 miles (160 km) northwest of her hometown of Houston. The prison was recommended by the judge who sentenced Holmes, but authorities have not publicly disclosed where she will be held. Her many detractors contend she deserves to be in prison for peddling a technology that she repeatedly boasted would quickly scan for hundreds of diseases and other health problems with a few drops of blood taken with a finger prick. The technology never worked as promised. Instead, Theranos tests produced wildly unreliable results that could have endangered patients' lives - one of the most frequently cited reasons why she deserved to be prosecuted. Before those lies were uncovered in a series of explosive articles in The Wall Street Journal beginning in October 2015, Holmes raised nearly $1 billion from a list of savvy investors including Oracle co-founder Larry Ellison and media mogul Rupert Murdoch. It was the duping of those investors that led to her prison sentence and a $452 million restitution bill. Holmes' stake in Theranos at one point catapulted her paper wealth to $4.5 billion. She never sold any of her stock in the company, though trial evidence left no doubt she reveled in the trappings of fame and fortune - so much so that she and the father of her children, William \"Billy\" Evans, lived on a palatial Silicon Valley estate during the trial. The theory that Holmes was running an elaborate scam was buttressed by trial evidence documenting her efforts to prevent the Journal's investigation from being published. That campaign compelled John Carreyrou - the reporter responsible for those bombshell stories - to attend court and position himself in Holmes' line of vision when she took the witness stand. Holmes also signed off on surveillance aimed at intimidating Theranos employees who helped uncover the flaws with the blood-testing technology. The whistleblowers included Tyler Shultz, the grandson of former Secretary of State George Shultz, whom Holmes befriended and persuaded to join the Theranos board. Tyler Shultz became so unnerved by Holmes' efforts to shut him up that he began sleeping with a knife under his pillow, according to a wrenching statement delivered by his father, Alex, at her sentencing. Holmes' supporters still contend she always had good intentions and was unfairly scapegoated by the Justice Department. They insist she simply deployed the same over-the-top promotion tactics as many other tech executives, including Elon Musk, who has repeatedly made misleading statements about the capabilities of Tesla's self-driving cars. According to those supporters, Holmes was singled out because she was a woman who briefly eclipsed the men who customarily bask in Silicon Valley's spotlight, and the trial turned her into a latter-day version of Hester Prynne - the protagonist in the 1850 novel \"The Scarlet Letter.\" Holmes steadfastly maintained her innocence during seven often-riveting days of testimony in her own defense - a spectacle that caused people to line up shortly after midnight to secure one of the few dozen seats available in the San Jose courtroom. On one memorable day, Holmes recounted how she had never gotten over the trauma of being raped while enrolled at Stanford University. She then described being subjected to a long-running pattern of emotional and sexual abuse by her former lover and Theranos conspirator, Ramesh \"Sunny\" Balwani, and suggested his stifling control blurred her thinking. Balwani's lawyer, Jeffrey Coopersmith, denied those allegations during the trial. In Balwani's subsequent trial, Coopersmith unsuccessfully tried to depict his client as Holmes' pawn. Balwani, 57, is now serving a nearly 13-year prison sentence for fraud and conspiracy. When it came time to sentence the then-pregnant Holmes in November, US District Judge Edward Davila seemed as puzzled as anyone about why she did what she did. \"This is a fraud case where an exciting venture went forward with great expectations and hope, only to be dashed by untruth, misrepresentations, hubris and plain lies,\" Davila lamented while Holmes stood before him. \"I suppose we step back and we look at this, and we think what is the pathology of fraud?\" The judge also hearkened back to the days that Silicon Valley consisted mostly of orchards farmed by immigrants. That was before the land was ceded to the tech boom beginning in 1939 when William Hewlett and David Packard founded a company bearing their surnames in a one-car garage in Palo Alto - the same city where Theranos was based. \"You'll recall the wonderful innovation of those two individuals in that small garage,\" Davila reminded everyone in the rapt courtroom. \"No exotic automobiles or lavish lifestyle, just a desire to create for society's\"\"\""
      ],
      "metadata": {
        "id": "uwjOUSHlFq15"
      },
      "execution_count": 77,
      "outputs": []
    },
    {
      "cell_type": "code",
      "source": [
        "obj = coref_resolution(text)\n",
        "refined = obj.main()"
      ],
      "metadata": {
        "id": "Vjc_EO7PF0bq"
      },
      "execution_count": 78,
      "outputs": []
    },
    {
      "cell_type": "code",
      "source": [
        "refined"
      ],
      "metadata": {
        "colab": {
          "base_uri": "https://localhost:8080/",
          "height": 126
        },
        "id": "J_B-qqZzEzRA",
        "outputId": "53c4c19c-ffac-4fbd-8f13-73601fcd6c99"
      },
      "execution_count": 79,
      "outputs": [
        {
          "output_type": "execute_result",
          "data": {
            "text/plain": [
              "'As Elizabeth Holmes prepares to report to prison next week , the criminal case that laid bare the blood - testing scam at the heart of Elizabeth Holmes\\' Theranos startup is entering its final phase . The 11 - year sentence represents a comeuppance for the wide - eyed woman Elizabeth Holmes broke through \" tech bro \" culture to become one of Silicon Valley \\'s most celebrated entrepreneurs , only to be exposed as a fraud . Along the way , Elizabeth Holmes became a symbol of the shameless hyperbole that often saturates startup culture . But questions still linger about Elizabeth Holmes\\' true intentions - so many that even the federal judge who presided over Elizabeth Holmes\\' trial seemed mystified . And Elizabeth Holmes \\' defenders continue to ask whether the punishment fits the crime . At 39 , Elizabeth Holmes seems most likely to be remembered as Silicon Valley \\'s Icarus - a high - flying entrepreneur burning with reckless ambition whose odyssey culminated in convictions for fraud and conspiracy . Elizabeth Holmes\\' motives are still somewhat mysterious , and some supporters say federal prosecutors targeted Elizabeth Holmes\\' unfairly in their zeal to bring down one of the most prominent practitioners of fake - it - til - you - make - it - the tech sector \\'s brand of self - promotion Elizabeth Holmes sometimes veers into exaggeration and blatant lies to raise money . Elizabeth Holmes will begin to pay the price for Elizabeth Holmes\\' deceit on May 30 when Elizabeth Holmes is scheduled to begin the sentence that will separate Elizabeth Holmes\\' from Elizabeth Holmes\\' two children - a son whose July 2021 birth delayed the start of Elizabeth Holmes\\' trial and a 3 - month - old daughter conceived after Elizabeth Holmes\\' conviction . Discover the stories of your interest Blockchain 5 Stories Cyber - safety 7 Stories Fintech 9 Stories E - comm 9 Stories ML 8 Stories Edtech 6 Stories Elizabeth Holmes is expected to be incarcerated in Bryan , Texas , about 100 miles ( 160 km ) northwest of Elizabeth Holmes\\' hometown of Houston . The prison was recommended by the judge Elizabeth Holmes\\' sentenced Elizabeth Holmes , but authorities have not publicly disclosed where Elizabeth Holmes will be held . Elizabeth Holmes\\' many detractors contend Elizabeth Holmes deserves to be in prison for peddling a technology that Elizabeth Holmes repeatedly boasted would quickly scan for hundreds of diseases and other health problems with a few drops of blood taken with a finger prick . The technology never worked as promised . Instead , Theranos tests produced wildly unreliable results that could have endangered patients \\' lives - one of the most frequently cited reasons why Elizabeth Holmes deserved to be prosecuted . Before those lies were uncovered in a series of explosive articles in The Wall Street Journal beginning in October 2015 , Elizabeth Holmes raised nearly $ 1 billion from a list of savvy investors including Oracle co - founder Larry Ellison and media mogul Rupert Murdoch . It was the duping of those investors Rupert Murdoch led to Elizabeth Holmes\\' prison sentence and a $ 452 million restitution bill . Elizabeth Holmes   in Theranos at one point catapulted Elizabeth Holmes\\' paper wealth to $ 4.5 billion . Elizabeth Holmes never sold any of Elizabeth Holmes\\' stock in the company , though trial evidence left no doubt Elizabeth Holmes reveled in the trappings of fame and fortune - so much so that Elizabeth Holmes and the father of Elizabeth Holmes\\' children , William \" Billy \" Evans , lived on a palatial Silicon Valley estate during the trial . The theory that Elizabeth Holmes was running an elaborate scam was buttressed by trial evidence documenting Elizabeth Holmes\\' efforts to prevent the Journal \\'s investigation from being published . That campaign compelled John Carreyrou - the reporter responsible for those bombshell stories - to attend court and position John Carreyrou in Elizabeth Holmes \\' line of vision when Elizabeth Holmes took the witness stand . Elizabeth Holmes also signed off on surveillance aimed at intimidating Theranos employees who helped uncover the flaws with the blood - testing technology . The whistleblowers included Tyler Shultz , the grandson of former Secretary of State George Shultz , whom Elizabeth Holmes befriended and persuaded to join the Theranos board . whom  became so unnerved by Elizabeth Holmes \\' efforts to shut whom up that whom began sleeping with a knife under whom\\'s pillow , according to a wrenching statement delivered by whom\\'s father , Alex , at Elizabeth Holmes\\' sentencing . Elizabeth Holmes \\' supporters still contend Elizabeth Holmes always had good intentions and was unfairly scapegoated by the Justice Department . Elizabeth Holmes insist Elizabeth Holmes simply deployed the same over - the - top promotion tactics as many other tech executives , including Elon Musk , who has repeatedly made misleading statements about the capabilities of Tesla \\'s self - driving cars . According to Elizabeth Holmes   Elizabeth Holmes was singled out because Elizabeth Holmes was a woman who briefly eclipsed the men who customarily bask in Silicon Valley \\'s spotlight , and the trial turned Elizabeth Holmes\\' into a latter - day version of Hester Prynne - the protagonist in the 1850 novel \" The Scarlet Letter . \" Elizabeth Holmes steadfastly maintained Elizabeth Holmes\\' innocence during seven often - riveting days of testimony in Elizabeth Holmes\\' own defense - a spectacle that caused people to line up shortly after midnight to secure one of the few dozen seats available in the San Jose courtroom . On one memorable day , Elizabeth Holmes recounted how Elizabeth Holmes had never gotten over the trauma of being raped while enrolled at Stanford University . Elizabeth Holmes then described being subjected to a long - running pattern of emotional and sexual abuse by Elizabeth Holmes\\' former lover and Theranos conspirator , Ramesh \" Sunny \" Balwani , and suggested Elizabeth Holmes\\'\\'s stifling control blurred Elizabeth Holmes\\' thinking . Elizabeth Holmes\\'  lawyer , Jeffrey Coopersmith , denied those allegations during the trial . In Elizabeth Holmes\\' \\'s subsequent trial , Jeffrey Coopersmith  tried to depict Jeffrey Coopersmith client as Elizabeth Holmes \\' pawn . Elizabeth Holmes\\'  57 , is now serving a nearly 13 - year prison sentence for fraud and conspiracy . When it came time to sentence the then - pregnant Elizabeth Holmes in November , US District Judge Elizabeth Holmes\\'  seemed as puzzled as anyone about why Elizabeth Holmes did what Elizabeth Holmes did . \" This is a fraud case where an exciting venture went forward with great expectations and hope , only to be dashed by untruth , misrepresentations , hubris and plain lies , \" Elizabeth Holmes\\' lamented while Elizabeth Holmes stood before Elizabeth Holmes\\' . \" I suppose we step back and we look at this , and we think what is the pathology of fraud ? \" Elizabeth Holmes\\'   hearkened back to the days that Silicon Valley consisted mostly of orchards farmed by immigrants . That was before the land was ceded to the tech boom beginning in 1939 when William Hewlett and David Packard founded a company bearing David Packard surnames in a one - car garage in Palo Alto - the same city where Theranos was based . \" You \\'ll recall the wonderful innovation of David Packard    that small garage , \" Elizabeth Holmes\\' reminded everyone in the rapt courtroom . \" No exotic automobiles or lavish lifestyle , just a desire to create for society \\'s'"
            ],
            "application/vnd.google.colaboratory.intrinsic+json": {
              "type": "string"
            }
          },
          "metadata": {},
          "execution_count": 79
        }
      ]
    },
    {
      "cell_type": "code",
      "source": [
        "df.shape"
      ],
      "metadata": {
        "colab": {
          "base_uri": "https://localhost:8080/"
        },
        "id": "JnhHlHj_L6D8",
        "outputId": "d4997eac-8540-4c86-d47e-9e3df2eb4d31"
      },
      "execution_count": null,
      "outputs": [
        {
          "output_type": "execute_result",
          "data": {
            "text/plain": [
              "(491, 12)"
            ]
          },
          "metadata": {},
          "execution_count": 73
        }
      ]
    },
    {
      "cell_type": "code",
      "source": [
        "from tqdm import tqdm\n",
        "for idx, row in tqdm(df.iterrows()):\n",
        "  obj = coref_resolution(row['full_content'])\n",
        "  df.loc[idx, 'coref_resolved_content'] = obj.main()\n",
        "  del obj "
      ],
      "metadata": {
        "colab": {
          "base_uri": "https://localhost:8080/"
        },
        "id": "EMPozwgMNEXE",
        "outputId": "32f4598c-c15f-4da1-c377-c554e948ce9d"
      },
      "execution_count": null,
      "outputs": [
        {
          "output_type": "stream",
          "name": "stderr",
          "text": [
            "15it [05:45, 24.42s/it]Token indices sequence length is longer than the specified maximum sequence length for this model (649 > 512). Running this sequence through the model will result in indexing errors\n",
            "Token indices sequence length is longer than the specified maximum sequence length for this model (649 > 512). Running this sequence through the model will result in indexing errors\n",
            "81it [27:06, 21.02s/it]Token indices sequence length is longer than the specified maximum sequence length for this model (655 > 512). Running this sequence through the model will result in indexing errors\n",
            "Token indices sequence length is longer than the specified maximum sequence length for this model (655 > 512). Running this sequence through the model will result in indexing errors\n",
            "455it [2:39:20, 16.23s/it]Token indices sequence length is longer than the specified maximum sequence length for this model (518 > 512). Running this sequence through the model will result in indexing errors\n",
            "Token indices sequence length is longer than the specified maximum sequence length for this model (518 > 512). Running this sequence through the model will result in indexing errors\n",
            "457it [2:39:48, 15.02s/it]Token indices sequence length is longer than the specified maximum sequence length for this model (518 > 512). Running this sequence through the model will result in indexing errors\n",
            "Token indices sequence length is longer than the specified maximum sequence length for this model (518 > 512). Running this sequence through the model will result in indexing errors\n",
            "465it [2:42:25, 22.92s/it]Token indices sequence length is longer than the specified maximum sequence length for this model (520 > 512). Running this sequence through the model will result in indexing errors\n",
            "Token indices sequence length is longer than the specified maximum sequence length for this model (520 > 512). Running this sequence through the model will result in indexing errors\n",
            "491it [2:52:35, 21.09s/it]\n"
          ]
        }
      ]
    },
    {
      "cell_type": "code",
      "source": [],
      "metadata": {
        "id": "-3p6ED-mxe5X"
      },
      "execution_count": null,
      "outputs": []
    }
  ]
}